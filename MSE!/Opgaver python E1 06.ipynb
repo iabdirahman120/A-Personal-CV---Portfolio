{
 "cells": [
  {
   "cell_type": "code",
   "execution_count": 1,
   "id": "0b29b645",
   "metadata": {},
   "outputs": [
    {
     "name": "stdout",
     "output_type": "stream",
     "text": [
      "hello world\n"
     ]
    }
   ],
   "source": [
    "print(\"hello world\")\n"
   ]
  },
  {
   "cell_type": "code",
   "execution_count": 2,
   "id": "62731fc5",
   "metadata": {},
   "outputs": [
    {
     "name": "stdout",
     "output_type": "stream",
     "text": [
      "Array a:  [1 2 3]\n",
      "Array b:  [4 5 6]\n",
      "a + b:  [5 7 9]\n"
     ]
    }
   ],
   "source": [
    "import numpy as np\n",
    "\n",
    "# Create two  arrays\n",
    "a = np.array([1, 2, 3])\n",
    "b = np.array([4, 5, 6])\n",
    "\n",
    "# Add them\n",
    "c = a + b\n",
    "\n",
    "print(\"Array a: \", a)\n",
    "print(\"Array b: \", b)\n",
    "print(\"a + b: \", c)"
   ]
  },
  {
   "cell_type": "code",
   "execution_count": 3,
   "id": "a3d10fcc",
   "metadata": {},
   "outputs": [
    {
     "name": "stdout",
     "output_type": "stream",
     "text": [
      "A= \n",
      "⎡1  2⎤\n",
      "⎢    ⎥\n",
      "⎣3  4⎦\n",
      "\n",
      "B= \n",
      "⎡5  6⎤\n",
      "⎢    ⎥\n",
      "⎣7  8⎦\n",
      "\n",
      "A + B = \n",
      "⎡6   8 ⎤\n",
      "⎢      ⎥\n",
      "⎣10  12⎦\n"
     ]
    }
   ],
   "source": [
    "from sympy import Matrix,pprint\n",
    "\n",
    "A = Matrix([[1, 2], \n",
    "            [3, 4]])\n",
    "B = Matrix([[5, 6], \n",
    "            [7, 8]])\n",
    "#Matrix addition\n",
    "C = A + B\n",
    "\n",
    "#Show result\n",
    "pprint(\"A= \")\n",
    "pprint(A)\n",
    "print(\"\\nB= \")\n",
    "pprint(B)\n",
    "print(\"\\nA + B = \")\n",
    "pprint(C)"
   ]
  },
  {
   "cell_type": "code",
   "execution_count": 9,
   "id": "f9a20156",
   "metadata": {},
   "outputs": [
    {
     "name": "stdout",
     "output_type": "stream",
     "text": [
      "Antal observationer: 57\n"
     ]
    }
   ],
   "source": [
    "import numpy as np  \n",
    "import pandas as pd \n",
    "import matplotlib.pyplot as plt \n",
    "from collections import Counter\n",
    "\n",
    "#Data\n",
    "data = [18, 18, 18, 18, 19, 19, 19, 19, 19, 20, 20, 20, 20, 20, 20, 20, 20, 21, 21, \n",
    "        21, 21, 21, 21, 22, 22, 22, 22, 22, 22, 22, 22, 23, 23, 23, 23, 23, 23, 24, \n",
    "        24, 24, 24, 24, 25, 25, 25, 25, 26, 26, 26, 27, 27, 28, 30, 33, 35, 45, 55]\n",
    "n=len(data)\n",
    "print(f\"Antal observationer: {n}\")"
   ]
  },
  {
   "cell_type": "code",
   "execution_count": null,
   "id": "de29142e",
   "metadata": {},
   "outputs": [
    {
     "name": "stdout",
     "output_type": "stream",
     "text": [
      "\n",
      "Frekvenstabel:\n",
      " Alder  Frekvens  Relativ frekvens\n",
      "    18         4          0.070175\n",
      "    19         5          0.087719\n",
      "    20         8          0.140351\n",
      "    21         6          0.105263\n",
      "    22         8          0.140351\n",
      "    23         6          0.105263\n",
      "    24         5          0.087719\n",
      "    25         4          0.070175\n",
      "    26         3          0.052632\n",
      "    27         2          0.035088\n",
      "    28         1          0.017544\n",
      "    30         1          0.017544\n",
      "    33         1          0.017544\n",
      "    35         1          0.017544\n",
      "    45         1          0.017544\n",
      "    55         1          0.017544\n"
     ]
    }
   ],
   "source": [
    "#a) Lav en frekvenstabel for dataene\n",
    "\n",
    "freq = Counter(data)\n",
    "freq_df = pd.DataFrame(sorted(freq.items()),columns=[\"Alder\", \"Frekvens\"])    \n",
    "freq_df[\"Relativ frekvens\"] = freq_df[\"Frekvens\"] / n\n",
    "print(\"\\nFrekvenstabel:\")\n",
    "print(freq_df.to_string(index=False))"
   ]
  },
  {
   "cell_type": "code",
   "execution_count": 11,
   "id": "3d692602",
   "metadata": {},
   "outputs": [
    {
     "data": {
      "image/png": "[encoded data removed]",
      "text/plain": [
       "<Figure size 640x480 with 1 Axes>"
      ]
     },
     "metadata": {},
     "output_type": "display_data"
    }
   ],
   "source": [
    "#b) Plot et histogram for dataene\n",
    "plt.hist(data, bins=range(min(data), max(data) + 2), edgecolor='black', align='left')\n",
    "plt.title('Histogram over alder')\n",
    "plt.xlabel('Alder')\n",
    "plt.ylabel('Frekvens')\n",
    "plt.show()"
   ]
  },
  {
   "cell_type": "code",
   "execution_count": null,
   "id": "7c2d2006",
   "metadata": {},
   "outputs": [],
   "source": [
    "#c) Hvordan hænger frekvenstabellen og histogrammet sammen?\n",
    "# Svar: Frekvenstabellen viser de numeriske optællinger af hver alder, mens histogrammet giver en visuel repræsentation \n",
    "#af de samme data. Højden på hver søjle svarer til frekvensen for den pågældende alder."
   ]
  },
  {
   "cell_type": "code",
   "execution_count": 12,
   "id": "30b5897f",
   "metadata": {},
   "outputs": [
    {
     "name": "stdout",
     "output_type": "stream",
     "text": [
      "\n",
      "Variationsbredde: 37\n"
     ]
    }
   ],
   "source": [
    "#d) Beregn variationsbredden for aldrene\n",
    "variationsbredde = max(data) - min(data)\n",
    "print(f\"\\nVariationsbredde: {variationsbredde}\")"
   ]
  },
  {
   "cell_type": "code",
   "execution_count": null,
   "id": "0b261898",
   "metadata": {},
   "outputs": [
    {
     "name": "stdout",
     "output_type": "stream",
     "text": [
      "\n",
      "Middelværdi: 23.596491228070175\n",
      "Median: 22.0\n",
      "Prøvevarians: 38.74498746867168\n",
      "Prøvestandardafvigelse: 6.224547169768391\n"
     ]
    }
   ],
   "source": [
    "#e) Beregn middelværdi , median , prøvevarians  og prøvestandardafvigelse.\n",
    "#Middelværdi = Gennemsnit\n",
    "#Median = Den midterste værdi\n",
    "#Prøvevarians = Variationen i prøven\n",
    "#Prøvestandardafvigelse = Standardafvigelsen i prøven\n",
    "\n",
    "middelværdi = np.mean(data)\n",
    "median = np.median(data)\n",
    "prøvevarians = np.var(data, ddof=1)\n",
    "prøvestandardafvigelse = np.std(data, ddof=1)\n",
    "print(f\"\\nMiddelværdi: {middelværdi}\")\n",
    "print(f\"Median: {median}\")\n",
    "print(f\"Prøvevarians: {prøvevarians}\")\n",
    "print(f\"Prøvestandardafvigelse: {prøvestandardafvigelse}\")\n"
   ]
  },
  {
   "cell_type": "code",
   "execution_count": null,
   "id": "8f301054",
   "metadata": {},
   "outputs": [
    {
     "name": "stdout",
     "output_type": "stream",
     "text": [
      "\n",
      "P10: 19.0\n",
      "P90: 27.4\n",
      "IQR: 7.399999999999999\n"
     ]
    }
   ],
   "source": [
    "#f) Find P10, P90 og interkvartilområdet (IQR)\n",
    "P10 = np.percentile(data, 10)\n",
    "P90 = np.percentile(data, 90)\n",
    "IQR = P90 - np.percentile(data, 25)\n",
    "print(f\"\\nP10: {P10}\")\n",
    "print(f\"P90: {P90}\")\n",
    "print(f\"IQR: {IQR}\")\n",
    "\n",
    "\n"
   ]
  },
  {
   "cell_type": "code",
   "execution_count": 18,
   "id": "84f18dc8",
   "metadata": {},
   "outputs": [
    {
     "name": "stdout",
     "output_type": "stream",
     "text": [
      "\n",
      "Milde outliers ligger udenfor: 8.900000000000002 og 36.099999999999994\n",
      "\n",
      "Ekstreme outliers ligger udenfor: -2.1999999999999957 og 47.199999999999996\n"
     ]
    }
   ],
   "source": [
    "#g)Identificer milde og ekstreme outliers ved hjælp af 1.5*IQR og 3*IQR reglerne.\n",
    "lower_bound_mild = np.percentile(data, 25) - 1.5 * IQR\n",
    "upper_bound_mild = np.percentile(data, 75) + 1.5 * IQR\n",
    "lower_bound_extreme = np.percentile(data, 25) - 3 * IQR\n",
    "upper_bound_extreme = np.percentile(data, 75) + 3 * IQR\n",
    "print(f\"\\nMilde outliers ligger udenfor: {lower_bound_mild} og {upper_bound_mild}\")\n",
    "print(f\"\\nEkstreme outliers ligger udenfor: {lower_bound_extreme} og {upper_bound_extreme}\")\n"
   ]
  },
  {
   "cell_type": "code",
   "execution_count": 26,
   "id": "cb4a553d",
   "metadata": {},
   "outputs": [
    {
     "name": "stdout",
     "output_type": "stream",
     "text": [
      "Alder Frekvens\n",
      "18    4\n",
      "19    5\n",
      "20    7\n",
      "21    6\n",
      "22    7\n",
      "23    6\n",
      "24    5\n",
      "25    4\n",
      "26    3\n",
      "27    2\n",
      "28    1\n",
      "30    1\n",
      "33    1\n",
      "35    1\n",
      "45    1\n",
      "55    1\n",
      "\n",
      "Statistik:\n",
      "Middelværdi (μ): 23.6909\n",
      "Std.afvigelse (σ, sample): 6.3154\n",
      "1σ interval: [17.38, 30.01]\n",
      "2σ interval: [11.06, 36.32]\n",
      "3σ interval: [4.74, 42.64]\n",
      "\n",
      "Andele indenfor intervaller (ud af n=55):\n",
      "Indenfor 1σ: 51 (92.7%)\n",
      "Indenfor 2σ: 53 (96.4%)\n",
      "Indenfor 3σ: 53 (96.4%)\n",
      "\n",
      "Udenfor 2σ: [45, 55]\n",
      "Udenfor 3σ: [45, 55]\n"
     ]
    }
   ],
   "source": [
    "#h) Den empiriske regel (normalitetstjek). Sammenlign andelen af studerende inden for 1, 2 og 3 standardafvigelser fra middelværdien\n",
    "#  med 68.3–95.4–99.7%-reglen.\n",
    "from collections import Counter\n",
    "from statistics import mean, stdev, pstdev\n",
    "\n",
    "# Datasættet\n",
    "data = [\n",
    "    18, 18, 18, 18,\n",
    "    19, 19, 19, 19, 19,\n",
    "    20, 20, 20, 20, 20, 20, 20,\n",
    "    21, 21, 21, 21, 21, 21,\n",
    "    22, 22, 22, 22, 22, 22, 22,\n",
    "    23, 23, 23, 23, 23, 23,\n",
    "    24, 24, 24, 24, 24,\n",
    "    25, 25, 25, 25,\n",
    "    26, 26, 26,\n",
    "    27, 27,\n",
    "    28, 30, 33, 35, 45, 55\n",
    "]\n",
    "\n",
    "# --- Frekvenstabel (din del) ---\n",
    "counts = Counter(data)\n",
    "print(f\"{'Alder':<6}{'Frekvens'}\")\n",
    "for alder in sorted(counts):\n",
    "    print(f\"{alder:<6}{counts[alder]}\")\n",
    "\n",
    "# --- Middelværdi og standardafvigelse ---\n",
    "mu = mean(data)         # middelværdi\n",
    "sigma = stdev(data)     # standardafvigelse (sample, n-1). Brug pstdev(data) for population\n",
    "\n",
    "# Grænser for 1σ, 2σ, 3σ\n",
    "b1 = (mu - 1*sigma, mu + 1*sigma)\n",
    "b2 = (mu - 2*sigma, mu + 2*sigma)\n",
    "b3 = (mu - 3*sigma, mu + 3*sigma)\n",
    "\n",
    "print(\"\\nStatistik:\")\n",
    "print(f\"Middelværdi (μ): {mu:.4f}\")\n",
    "print(f\"Std.afvigelse (σ, sample): {sigma:.4f}\")\n",
    "print(f\"1σ interval: [{b1[0]:.2f}, {b1[1]:.2f}]\")\n",
    "print(f\"2σ interval: [{b2[0]:.2f}, {b2[1]:.2f}]\")\n",
    "print(f\"3σ interval: [{b3[0]:.2f}, {b3[1]:.2f}]\")\n",
    "\n",
    "# --- (Valgfrit) Tæl hvor mange der ligger indenfor/udenfor ---\n",
    "def within(x, lo, hi):\n",
    "    return lo <= x <= hi\n",
    "\n",
    "n = len(data)\n",
    "n1 = sum(within(x, *b1) for x in data)\n",
    "n2 = sum(within(x, *b2) for x in data)\n",
    "n3 = sum(within(x, *b3) for x in data)\n",
    "\n",
    "print(f\"\\nAndele indenfor intervaller (ud af n={n}):\")\n",
    "print(f\"Indenfor 1σ: {n1} ({n1/n*100:.1f}%)\")\n",
    "print(f\"Indenfor 2σ: {n2} ({n2/n*100:.1f}%)\")\n",
    "print(f\"Indenfor 3σ: {n3} ({n3/n*100:.1f}%)\")\n",
    "\n",
    "# (Valgfrit) Hvem ligger udenfor 2σ/3σ?\n",
    "out_2sigma = [x for x in data if not within(x, *b2)]\n",
    "out_3sigma = [x for x in data if not within(x, *b3)]\n",
    "print(f\"\\nUdenfor 2σ: {sorted(out_2sigma)}\")\n",
    "print(f\"Udenfor 3σ: {sorted(out_3sigma)}\")\n",
    "\n"
   ]
  },
  {
   "cell_type": "code",
   "execution_count": 8,
   "id": "a5306a5e",
   "metadata": {},
   "outputs": [
    {
     "name": "stdout",
     "output_type": "stream",
     "text": [
      "Object `SD` not found.\n",
      "Middelværdi: 76.0625\n",
      "Standardafvigelse: 11.792310789238893\n",
      "Andel inden for 1 SD: 56.25%\n",
      "Andel inden for 2 SD: 100.00%\n",
      "Andel inden for 3 SD: 100.00%\n"
     ]
    }
   ],
   "source": [
    "#i) Undersøg histogrammet for skævhed\n",
    "# Svar: Histogrammet viser en positiv skævhed (højreskæv), da halen på højre side er længere end på venstre side.\n",
    "\n",
    "#Øvelse 5: Boxplot (Python)¶\n",
    "#En fabrik fylder 1 kg poser med sukker. Vægtene af en prøve på 20 poser er vist nedenfor (i kg):\n",
    "\n",
    "data={1.00, 1.01, 1.05, 0.99, 0.97, 1.01, 0.98, 0.99, 1.06, 1.06, 0.96, 1.00, 1.03, 0.97, 1.00, 0.99, 1.08, 1.01, 1.32, 0.82, 0.86}\n",
    "\n",
    "#a) identificer medianvægten ud fra boxplottet.\n",
    "# Svar: Medianvægten er 1.00 kg, da den ligger i midten af fordelingen i boxplottet.\n",
    "\n",
    "#b) Estimer første (Q1) og tredje kvartil (Q3) ud fra boxplottet.\n",
    "# Svar: Q1 er ca. 0.98 kg og Q3 er ca. 1.03 kg baseret på boxplottets kvartilmarkeringer.\n",
    "\n",
    "#c) Beregn interkvartilområdet (IQR).\n",
    "Q1 = 0.98\n",
    "Q3 = 1.03\n",
    "IQR = Q3 - Q1\n",
    "1.03 - 0.98\n",
    "# Svar: IQR = 0.05 kg\n",
    "\n",
    "#d)Beregn variationsbredden for vægtene.\n",
    "data_list = [1.00, 1.01, 1.05, 0.99, 0.97, 1.01, 0.98, 0.99, 1.06, 1.06, 0.96, 1.00, 1.03, 0.97, 1.00,\n",
    "                0.99, 1.08, 1.01, 1.32, 0.82, 0.86]\n",
    "variationsbredde = max(data_list) - min(data_list)\n",
    "# Svar: Variationsbredden er 1.32 - 0.82 = 0.50 kg\n",
    "\n",
    "#e)Forklar, hvordan outliers er repræsenteret i denne sammenhæng.\n",
    "# Svar: Outliers er repræsenteret som punkter uden for \"whiskers\" i boxplottet. I dette tilfælde er 1.32 kg og 0.82 kg outliers, \n",
    "# da de ligger uden for det normale interval defineret af 1.5*IQR-reglen.\n",
    "#Outliers repræsenterer poser, der er markant underfyldte eller overfyldte i forhold til de fleste andre poser.\n",
    "\n",
    "#f) Hvad kunne outliers indikere om fyldningsprocessen?\n",
    "# Svar: Outliers kan indikere uregelmæssigheder i fyldningsprocessen, fx udstyrsfejl eller menneskelige fejl. De peger ikke nødvendigvis \n",
    "# på unøjagtige målinger, men på variationer i selve fyldningsprocessen.\n",
    "\n",
    "#g) Ud fra boxplottet, vurder om vægtfordelingen er symmetrisk eller skæv.\n",
    "# Svar: Vægtfordelingen er positivt skæv (højreskæv), da medianen er tættere på Q1 end Q3, og der er flere outliers på den højre side.\n",
    "\n",
    "#h)Forklar, hvordan middelværdi, typetal og median typisk forholder sig i en højreskæv fordeling.\n",
    "# Svar: I en højreskæv fordeling er middelværdien typisk større end medianen, som igen er større end typetallet.\n",
    "#  Dette skyldes, at de højere værdier trækker middelværdien opad.\n",
    "#det gælder: Middelværdi > Median > Typetal\n",
    "\n",
    "#Øvelse 6: Den empiriske regel (Python)\n",
    "#For hvert datasæt nedenfor skal du vurdere, om dataene ser cirka normalfordelte ud.\n",
    "\n",
    "#Brug den empiriske regel (68.3–95.4–99.7%) til at begrunde dit svar.\n",
    "\n",
    "#a)Responstider (ms) – middelværdi = 300, SD = 50, inden for 1 SD: 55%, inden for 2 SD: 78%, inden for 3 SD: 90% \n",
    "# Svar: Dataene ser ikke normalfordelte ud, da andelene inden for 1, 2 og 3 SD er lavere end forventet ifølge den empiriske regel.\n",
    "Hvad betyder SD?\n",
    "# Svar: SD står for standardafvigelse, som er et mål for spredningen af data omkring middelværdien.\n",
    "#  En lav SD indikerer, at dataene ligger tæt på middelværdien, mens en høj SD indikerer, at dataene er mere spredte.\n",
    "#Hvad er lav SD?\n",
    "# Svar: Lav SD betyder, at dataene er tættere på middelværdien, hvilket indikerer mindre variation i datasættet.\n",
    "#Hvad er høj SD?\n",
    "# Svar: Høj SD betyder, at dataene er mere spredte omkring middelværdien, hvilket indikerer større variation i datasættet.\n",
    "#Eksempel på lav SD?\n",
    "# Svar: Et eksempel på lav SD kunne være et datasæt som [48, 50, 52, 49, 51], hvor værdierne ligger tæt på middelværdien 50.\n",
    "#Eksempel på høj SD?\n",
    "# Svar: Et eksempel på høj SD kunne være et datasæt som [30, 50, 70, 90, 110], hvor værdierne er mere spredte omkring middelværdien 70.\n",
    "\n",
    "#b)Antal fejlrapporter pr. uge – middelværdi = 12, SD = 4, inden for 1 SD: 68%, inden for 2 SD: 94%, inden for 3 SD: 99% \n",
    "# Svar: Dataene ser cirka normalfordelte ud, da andelene inden for 1, 2 og 3 SD er tæt på de forventede værdier ifølge den empiriske regel.\n",
    "#Hvordan ser normalfordelte data ud, udfra det jeg skrev tidligere? \"Emipiriske regel (68.3–95.4–99.7%)\"\n",
    "\n",
    "#c) Eksamensresultater: {55, 60, 62, 65, 68, 70, 72, 75, 78, 80, 82, 85, 88, 90, 92, 95}\n",
    "# Svar: Dataene ser ikke normalfordelte ud, da der er en koncentration af resultater omkring midten og færre resultater i de ekstreme ender.\n",
    "\n",
    "data = [55, 60, 62, 65, 68, 70, 72, 75, 78, 80, 82, 85, 88, 90, 92, 95]\n",
    "import numpy as np\n",
    "\n",
    "middelværdi = np.mean(data)\n",
    "print(f\"Middelværdi: {middelværdi}\")\n",
    "\n",
    "standardafvigelse = np.std(data)\n",
    "print(f\"Standardafvigelse: {standardafvigelse}\")\n",
    "\n",
    "grænse_1 = (middelværdi - standardafvigelse, middelværdi + standardafvigelse)\n",
    "grænse_2 = (middelværdi - 2*standardafvigelse, middelværdi + 2*standardafvigelse)\n",
    "grænse_3 = (middelværdi - 3*standardafvigelse, middelværdi + 3*standardafvigelse)\n",
    "\n",
    "andel_1 = sum(1 for x in data if grænse_1[0] <= x <= grænse_1[1]) / len(data) * 100\n",
    "andel_2 = sum(1 for x in data if grænse_2[0] <= x <= grænse_2[1]) / len(data) * 100\n",
    "andel_3 = sum(1 for x in data if grænse_3[0] <= x <= grænse_3[1]) / len(data) * 100\n",
    "\n",
    "print(f\"Andel inden for 1 SD: {andel_1:.2f}%\")\n",
    "print(f\"Andel inden for 2 SD: {andel_2:.2f}%\")\n",
    "print(f\"Andel inden for 3 SD: {andel_3:.2f}%\")\n",
    "\n",
    "\n",
    "\n",
    "\n",
    "\n"
   ]
  }
 ],
 "metadata": {
  "kernelspec": {
   "display_name": "Python 3",
   "language": "python",
   "name": "python3"
  },
  "language_info": {
   "codemirror_mode": {
    "name": "ipython",
    "version": 3
   },
   "file_extension": ".py",
   "mimetype": "text/x-python",
   "name": "python",
   "nbconvert_exporter": "python",
   "pygments_lexer": "ipython3",
   "version": "3.13.7"
  }
 },
 "nbformat": 4,
 "nbformat_minor": 5
}
